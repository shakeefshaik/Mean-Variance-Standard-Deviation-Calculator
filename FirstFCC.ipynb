{
 "cells": [
  {
   "cell_type": "code",
   "execution_count": 1,
   "metadata": {},
   "outputs": [],
   "source": [
    "import numpy as np\n",
    "import pandas as pd"
   ]
  },
  {
   "cell_type": "code",
   "execution_count": null,
   "metadata": {},
   "outputs": [
    {
     "name": "stdout",
     "output_type": "stream",
     "text": [
      "[[3. 4. 5.]\n",
      " [1. 4. 7.]\n",
      " [4. 4. 4.]]\n"
     ]
    },
    {
     "data": {
      "text/plain": [
       "4.0"
      ]
     },
     "execution_count": 12,
     "metadata": {},
     "output_type": "execute_result"
    }
   ],
   "source": [
    "#.........................................mean..........................................\n",
    "\n",
    "# Original list\n",
    "original_list = [[3.0, 4.0, 5.0], [1.0, 4.0, 7.0], 4.0]\n",
    "\n",
    "# Flatten the list\n",
    "flattened_list = [item for sublist in original_list for item in (sublist if isinstance(sublist, list) else [sublist])]\n",
    "\n",
    "# Check if the list has fewer than 9 elements and fill with the last element\n",
    "while len(flattened_list) < 9:\n",
    "    flattened_list.append(flattened_list[-1])\n",
    "\n",
    "# Reshape into a 3x3 matrix\n",
    "matrix = np.array(flattened_list).reshape(3, 3)\n",
    "\n",
    "print(matrix)\n",
    "np.mean(matrix)\n",
    "\n",
    "\n",
    "\n"
   ]
  },
  {
   "cell_type": "code",
   "execution_count": 15,
   "metadata": {},
   "outputs": [
    {
     "name": "stdout",
     "output_type": "stream",
     "text": [
      "[[6.         6.         6.        ]\n",
      " [0.66666667 0.66666667 0.66666667]\n",
      " [6.66666667 6.66666667 6.66666667]]\n"
     ]
    },
    {
     "data": {
      "text/plain": [
       "7.2098765432098775"
      ]
     },
     "execution_count": 15,
     "metadata": {},
     "output_type": "execute_result"
    }
   ],
   "source": [
    "#.........................................mean..........................................\n",
    "\n",
    "original_list =  [[6.0, 6.0, 6.0], [0.6666666666666666, 0.6666666666666666, 0.6666666666666666], 6.666666666666667]\n",
    "\n",
    "flattened_list = [item for sublist in original_list for item in (sublist if isinstance(sublist, list) else [sublist])]\n",
    "\n",
    "while len(flattened_list) < 9:\n",
    "    flattened_list.append(flattened_list[-1])\n",
    "\n",
    "matrix = np.array(flattened_list).reshape(3, 3)\n",
    "print(matrix)\n",
    "np.var(matrix)"
   ]
  },
  {
   "cell_type": "code",
   "execution_count": 16,
   "metadata": {},
   "outputs": [
    {
     "name": "stdout",
     "output_type": "stream",
     "text": [
      "[[2.44948974 2.44948974 2.44948974]\n",
      " [0.81649658 0.81649658 0.81649658]\n",
      " [2.5819889  2.5819889  2.5819889 ]]\n"
     ]
    },
    {
     "data": {
      "text/plain": [
       "0.8028550313610179"
      ]
     },
     "execution_count": 16,
     "metadata": {},
     "output_type": "execute_result"
    }
   ],
   "source": [
    "#.........................................standard deviation..........................................\n",
    "\n",
    "original_list = [[2.449489742783178, 2.449489742783178, 2.449489742783178], [0.816496580927726, 0.816496580927726, 0.816496580927726], 2.581988897471611]\n",
    "\n",
    "\n",
    "flattened_list = [item for sublist in original_list for item in (sublist if isinstance(sublist, list) else [sublist])]\n",
    "\n",
    "while len(flattened_list) < 9:\n",
    "    flattened_list.append(flattened_list[-1])\n",
    "\n",
    "matrix = np.array(flattened_list).reshape(3, 3)\n",
    "print(matrix)\n",
    "np.std(matrix)"
   ]
  },
  {
   "cell_type": "code",
   "execution_count": 17,
   "metadata": {},
   "outputs": [
    {
     "name": "stdout",
     "output_type": "stream",
     "text": [
      "[[6 7 8]\n",
      " [2 5 8]\n",
      " [8 8 8]]\n"
     ]
    },
    {
     "data": {
      "text/plain": [
       "8"
      ]
     },
     "execution_count": 17,
     "metadata": {},
     "output_type": "execute_result"
    }
   ],
   "source": [
    "#.........................................maximum..........................................\n",
    "\n",
    "original_list = [[6, 7, 8], [2, 5, 8], 8]\n",
    "\n",
    "flattened_list = [item for sublist in original_list for item in (sublist if isinstance(sublist, list) else [sublist])]\n",
    "\n",
    "while len(flattened_list) < 9:\n",
    "    flattened_list.append(flattened_list[-1])\n",
    "\n",
    "matrix = np.array(flattened_list).reshape(3, 3)\n",
    "print(matrix)\n",
    "np.max(matrix)"
   ]
  },
  {
   "cell_type": "code",
   "execution_count": 18,
   "metadata": {},
   "outputs": [
    {
     "name": "stdout",
     "output_type": "stream",
     "text": [
      "[[0 1 2]\n",
      " [0 3 6]\n",
      " [0 0 0]]\n"
     ]
    },
    {
     "data": {
      "text/plain": [
       "0"
      ]
     },
     "execution_count": 18,
     "metadata": {},
     "output_type": "execute_result"
    }
   ],
   "source": [
    "#.........................................minimum..........................................\n",
    "\n",
    "original_list =  [[0, 1, 2], [0, 3, 6], 0]\n",
    "\n",
    "flattened_list = [item for sublist in original_list for item in (sublist if isinstance(sublist, list) else [sublist])]\n",
    "\n",
    "while len(flattened_list) < 9:\n",
    "    flattened_list.append(flattened_list[-1])\n",
    "\n",
    "matrix = np.array(flattened_list).reshape(3, 3)\n",
    "print(matrix)\n",
    "np.min(matrix)"
   ]
  },
  {
   "cell_type": "code",
   "execution_count": 19,
   "metadata": {},
   "outputs": [
    {
     "name": "stdout",
     "output_type": "stream",
     "text": [
      "[[ 9 12 15]\n",
      " [ 3 12 21]\n",
      " [36 36 36]]\n"
     ]
    },
    {
     "data": {
      "text/plain": [
       "180"
      ]
     },
     "execution_count": 19,
     "metadata": {},
     "output_type": "execute_result"
    }
   ],
   "source": [
    "#.........................................sum..........................................\n",
    "\n",
    "original_list =  [[9, 12, 15], [3, 12, 21], 36]\n",
    "\n",
    "flattened_list = [item for sublist in original_list for item in (sublist if isinstance(sublist, list) else [sublist])]\n",
    "\n",
    "while len(flattened_list) < 9:\n",
    "    flattened_list.append(flattened_list[-1])\n",
    "\n",
    "matrix = np.array(flattened_list).reshape(3, 3)\n",
    "print(matrix)\n",
    "np.sum(matrix)"
   ]
  },
  {
   "cell_type": "code",
   "execution_count": null,
   "metadata": {},
   "outputs": [],
   "source": []
  }
 ],
 "metadata": {
  "kernelspec": {
   "display_name": "Python 3",
   "language": "python",
   "name": "python3"
  },
  "language_info": {
   "codemirror_mode": {
    "name": "ipython",
    "version": 3
   },
   "file_extension": ".py",
   "mimetype": "text/x-python",
   "name": "python",
   "nbconvert_exporter": "python",
   "pygments_lexer": "ipython3",
   "version": "3.12.3"
  }
 },
 "nbformat": 4,
 "nbformat_minor": 2
}
